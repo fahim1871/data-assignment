{
 "cells": [
  {
   "cell_type": "markdown",
   "metadata": {},
   "source": [
    "### Week-3 Assignment Solution: NumPy Basics"
   ]
  },
  {
   "cell_type": "markdown",
   "metadata": {},
   "source": [
    "1. Introduction to NumPy and Array Creation (10 Marks)\n",
    "- Create a 1D NumPy array with the elements [10, 20, 30, 40, 50]. (2 Marks)\n",
    "- Create a 2D array of shape (2, 3) using numpy.zeros. (3 Marks)\n",
    "- Use numpy.linspace to create an array of 5 evenly spaced numbers between 0 and 100. (5 Marks)\n"
   ]
  },
  {
   "cell_type": "code",
   "execution_count": 23,
   "metadata": {},
   "outputs": [
    {
     "name": "stdout",
     "output_type": "stream",
     "text": [
      "1D array: [10 20 30 40 50]\n",
      "2D array: [[0. 0. 0.]\n",
      " [0. 0. 0.]]\n",
      "Linspaced array: [  0.  25.  50.  75. 100.]\n"
     ]
    }
   ],
   "source": [
    "import numpy as np\n",
    "one_D_array= np.array([10,20,30,40,50])\n",
    "print(\"1D array:\",one_D_array)\n",
    "two_d=np.zeros((2,3))\n",
    "print(\"2D array:\",two_d)\n",
    "a=np.linspace(0,100,5)\n",
    "print(\"Linspaced array:\",a)\n"
   ]
  },
  {
   "cell_type": "markdown",
   "metadata": {},
   "source": [
    "2. Array Indexing and Slicing (10 Marks):\n",
    "- Using the 1D array [5, 10, 15, 20, 25, 30]:\n",
    "   - Extract the first 3 elements. (2 Marks)\n",
    "   - Extract every second element. (3 Marks)\n",
    "   - Change the 4th element to 50 and print the updated array. (5 Marks)\n"
   ]
  },
  {
   "cell_type": "code",
   "execution_count": 22,
   "metadata": {},
   "outputs": [
    {
     "name": "stdout",
     "output_type": "stream",
     "text": [
      "First 3 elements: [ 5 10 15]\n",
      "Every second element: [ 5 15 25]\n",
      "Updated array: [ 5 10 15 50 25 30]\n"
     ]
    }
   ],
   "source": [
    "import numpy as np\n",
    "given=np.array([5,10,15,20,25,30])\n",
    "first_three=given[:3]\n",
    "print(\"First 3 elements:\",first_three)\n",
    "every_second=given[::2]\n",
    "print(\"Every second element:\",every_second)\n",
    "\n",
    "given[3]=50\n",
    "new_array=given\n",
    "print(\"Updated array:\",new_array)"
   ]
  },
  {
   "cell_type": "markdown",
   "metadata": {},
   "source": [
    "3. Reshaping Arrays (10 Marks)\n",
    "- Create a 1D array with 12 elements ranging from 1 to 12 using numpy.arange. (5 Marks)\n",
    "- Reshape it into a 2D array of shape (3, 4). (5 Marks)\n"
   ]
  },
  {
   "cell_type": "code",
   "execution_count": 28,
   "metadata": {},
   "outputs": [
    {
     "name": "stdout",
     "output_type": "stream",
     "text": [
      "Array with elements 1 to 12: [ 1  2  3  4  5  6  7  8  9 10 11 12]\n",
      "Reshaped array: [[ 1  2  3  4]\n",
      " [ 5  6  7  8]\n",
      " [ 9 10 11 12]]\n"
     ]
    }
   ],
   "source": [
    "import numpy as np\n",
    "array=np.arange(1,13)\n",
    "\n",
    "print(\"Array with elements 1 to 12:\",array)\n",
    "\n",
    "new_a= array.reshape(3,4)\n",
    "print(\"Reshaped array:\",new_a)"
   ]
  },
  {
   "cell_type": "markdown",
   "metadata": {},
   "source": [
    "4. Broadcasting and Element-wise Operations (10 Marks)\n",
    "- Create a 1D array with elements [1, 2, 3, 4, 5].\n",
    "- Perform the following operations:\n",
    "  - Add 10 to each element. (2 Marks)\n",
    "  - Multiply each element by 3. (3 Marks)\n",
    "  - Calculate the square of each element. (5 Marks)\n"
   ]
  },
  {
   "cell_type": "code",
   "execution_count": 31,
   "metadata": {},
   "outputs": [
    {
     "name": "stdout",
     "output_type": "stream",
     "text": [
      "Given array: [1 2 3 4 5]\n",
      "10 added array: [11 12 13 14 15]\n",
      "Multiplied by 3 array: [ 3  6  9 12 15]\n",
      "Squared array: [ 1  4  9 16 25]\n"
     ]
    }
   ],
   "source": [
    "import numpy as np\n",
    "given=np.arange(1,6)\n",
    "added_a=given +10\n",
    "multiple_a=given*3\n",
    "square_a=given**2\n",
    "print(\"Given array:\", given)\n",
    "print(\"10 added array:\" ,added_a)\n",
    "print(\"Multiplied by 3 array:\",multiple_a)\n",
    "print(\"Squared array:\",square_a)"
   ]
  },
  {
   "cell_type": "markdown",
   "metadata": {},
   "source": [
    "5. Basic Statistics with Arrays (10 Marks)\n",
    "- Create a NumPy array representing daily temperatures for a week: [30, 32, 31, 29, 28, 33, 34].\n",
    "  - Find the mean temperature of the week. (3 Marks)\n",
    "  - Find the minimum and maximum temperatures. (3 Marks)\n",
    "  - Calculate the total sum of the temperatures. (4 Marks)\n"
   ]
  },
  {
   "cell_type": "code",
   "execution_count": 36,
   "metadata": {},
   "outputs": [
    {
     "name": "stdout",
     "output_type": "stream",
     "text": [
      "Given temperatures: [30 32 31 29 28 33 34]\n",
      "Mean temperature: 31.0\n",
      "Maximum temperature: 34\n",
      "Mininum temperature: 28\n",
      "Summation of temperatures: 217\n"
     ]
    }
   ],
   "source": [
    "import numpy as np\n",
    "temp=np.array([30,32,31,29,28,33,34])\n",
    "\n",
    "print(\"Given temperatures:\",temp)\n",
    "print(\"Mean temperature:\",np.mean(temp))\n",
    "print(\"Maximum temperature:\",np.max(temp))\n",
    "print(\"Mininum temperature:\",np.min(temp))\n",
    "print(\"Summation of temperatures:\",np.sum(temp))"
   ]
  },
  {
   "cell_type": "markdown",
   "metadata": {},
   "source": [
    "6. Real-World Problem: Sales Analysis (10 Marks)\n",
    "\n",
    "  1.Create a 2D array representing sales data for 2 products over 5 days:\n",
    "\n",
    "less\n",
    "\n",
    "Copy code\n",
    "\n",
    "Product 1: [200, 220, 250, 270, 300]  \n",
    "Product 2: [150, 160, 170, 180, 200]  \n",
    "\n",
    "\n",
    "  - Calculate the total sales for each product. (4 Marks)\n",
    "  - Calculate the average sales per day. (3 Marks)\n",
    "  - Find the day with the highest sales for each product. (3 Marks)\n"
   ]
  },
  {
   "cell_type": "code",
   "execution_count": 67,
   "metadata": {},
   "outputs": [
    {
     "name": "stdout",
     "output_type": "stream",
     "text": [
      "The combined 2D array: [[200 220 250 270 300]\n",
      " [150 160 170 180 200]]\n",
      "Total sales for product 1 : 1240\n",
      "Total sales for product 2 : 860\n",
      "The average sales per day : 420.0\n",
      "Highest sales day for product 1 is : Day 5\n",
      "Highest sales day for product 2 is : Day 5\n"
     ]
    }
   ],
   "source": [
    "import numpy as np\n",
    "Product_1=np.array ([200, 220, 250, 270, 300])\n",
    "Product_2= np.array([150, 160, 170, 180, 200])\n",
    "products = np.array([Product_1,Product_2])\n",
    "print(\"The combined 2D array:\",products)\n",
    "total_sales_product_1=np.sum(products[0])\n",
    "print(\"Total sales for product 1 :\",total_sales_product_1)\n",
    "total_sales_product_2=np.sum(products[1])\n",
    "print(\"Total sales for product 2 :\",total_sales_product_2)\n",
    "total_sales= np.sum(products)\n",
    "avg_sales = total_sales/ len(products[0])\n",
    "print (\"The average sales per day :\",avg_sales)\n",
    "max_sales_day_for_product_1=np.argmax(products[0])\n",
    "print(\"Highest sales day for product 1 is : Day\",max_sales_day_for_product_1+1)\n",
    "max_sales_day_for_product_2=np.argmax(products[1])\n",
    "print(\"Highest sales day for product 2 is : Day\",max_sales_day_for_product_1+1)\n",
    "\n",
    "\n"
   ]
  }
 ],
 "metadata": {
  "kernelspec": {
   "display_name": "Python 3",
   "language": "python",
   "name": "python3"
  },
  "language_info": {
   "codemirror_mode": {
    "name": "ipython",
    "version": 3
   },
   "file_extension": ".py",
   "mimetype": "text/x-python",
   "name": "python",
   "nbconvert_exporter": "python",
   "pygments_lexer": "ipython3",
   "version": "3.13.1"
  }
 },
 "nbformat": 4,
 "nbformat_minor": 2
}
