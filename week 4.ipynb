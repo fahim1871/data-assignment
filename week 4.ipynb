{
 "cells": [
  {
   "cell_type": "markdown",
   "metadata": {},
   "source": [
    "Week-4 Assignment: Pandas Basics"
   ]
  },
  {
   "cell_type": "markdown",
   "metadata": {},
   "source": [
    "1. Creating DataFrames (10 Marks)\n",
    "- Create a Pandas DataFrame with the following data:\n",
    "  -  Name\n",
    "Age\n",
    "Gender\n",
    "Score\n",
    "  -  Alice\n",
    "23\n",
    "Female\n",
    "85\n",
    "  -  Bob\n",
    "25\n",
    "Male\n",
    "78\n",
    "  -  Charlie\n",
    "22\n",
    "Male\n",
    "90\n",
    "  -  Diana\n",
    "24\n",
    "Female\n",
    "92\n",
    "\n",
    "- Tasks:\n",
    "  -  Display the first 3 rows of the DataFrame. (2 Marks)\n",
    "  -  Get the column names and data types. (2 Marks)\n",
    "  -  Add a new column named Passed with a value of True if the Score is greater than 80, otherwise False. (3 Marks)\n",
    "  -  Drop the Gender column from the DataFrame. (3 Marks)\n"
   ]
  },
  {
   "cell_type": "code",
   "execution_count": 85,
   "metadata": {},
   "outputs": [
    {
     "name": "stdout",
     "output_type": "stream",
     "text": [
      "First 3 rows:\n",
      "      Name  Age  Gender  Score\n",
      "0    Alice   23  Female     85\n",
      "1      Bob   25    Male     78\n",
      "2  Charlie   22    Male     90\n",
      "Column names and data types:\n",
      "Name      object\n",
      "Age        int64\n",
      "Gender    object\n",
      "Score      int64\n",
      "dtype: object\n",
      "Updated dataframe:\n",
      "      Name  Age  Gender  Score  Passed\n",
      "0    Alice   23  Female     85    True\n",
      "1      Bob   25    Male     78   False\n",
      "2  Charlie   22    Male     90    True\n",
      "3    Diana   24  Female     92    True\n",
      "New dataframe:\n",
      "      Name  Age  Score  Passed\n",
      "0    Alice   23     85    True\n",
      "1      Bob   25     78   False\n",
      "2  Charlie   22     90    True\n",
      "3    Diana   24     92    True\n"
     ]
    }
   ],
   "source": [
    "import pandas as pd\n",
    "print('First 3 rows:')\n",
    "given=pd.DataFrame({'Name':['Alice','Bob','Charlie','Diana'],'Age':[23,25,22,24],'Gender':['Female','Male','Male','Female'],'Score':[85,78,90,92]})\n",
    "print(given.iloc[:3])\n",
    "print('Column names and data types:')\n",
    "print(given.dtypes)\n",
    "print('Updated dataframe:')\n",
    "given['Passed']=given['Score']>80\n",
    "print(given)\n",
    "print('New dataframe:')\n",
    "given=given.drop(columns=['Gender'])\n",
    "print(given)\n"
   ]
  },
  {
   "cell_type": "markdown",
   "metadata": {},
   "source": [
    "2. Indexing and Slicing (10 Marks)\n",
    "- Use the DataFrame from Task 1:\n",
    "  -  Select and display only the Name and Score columns. (2 Marks)\n",
    "  -  Filter and display rows where Score is greater than 85. (3 Marks)\n",
    "  -  Display the row for the student named \"Bob\" using loc. (2 Marks)\n",
    "  -  Display the last 2 rows of the DataFrame. (3 Marks)\n"
   ]
  },
  {
   "cell_type": "code",
   "execution_count": 88,
   "metadata": {},
   "outputs": [
    {
     "name": "stdout",
     "output_type": "stream",
     "text": [
      "Only name and score:\n",
      "      Name  Score\n",
      "0    Alice     85\n",
      "1      Bob     78\n",
      "2  Charlie     90\n",
      "3    Diana     92\n",
      "Score greater than 85:\n",
      "      Name  Age  Gender  Score\n",
      "2  Charlie   22    Male     90\n",
      "3    Diana   24  Female     92\n",
      "Bob by loc:\n",
      "  Name  Age Gender  Score\n",
      "1  Bob   25   Male     78\n",
      "Last 2 rows:\n",
      "      Name  Age  Gender  Score\n",
      "2  Charlie   22    Male     90\n",
      "3    Diana   24  Female     92\n"
     ]
    }
   ],
   "source": [
    "import pandas as pd\n",
    "\n",
    "given=pd.DataFrame({'Name':['Alice','Bob','Charlie','Diana'],'Age':[23,25,22,24],'Gender':['Female','Male','Male','Female'],'Score':[85,78,90,92]})\n",
    "\n",
    "print('Only name and score:')\n",
    "given_2=given[['Name','Score']]\n",
    "print(given_2)\n",
    "print('Score greater than 85:')\n",
    "given_3= given[given['Score']>85]\n",
    "print(given_3)\n",
    "print('Bob by loc:')\n",
    "given_4=given.loc[given['Name']=='Bob']\n",
    "print(given_4)\n",
    "print('Last 2 rows:')\n",
    "print(given.iloc[2:])\n"
   ]
  },
  {
   "cell_type": "markdown",
   "metadata": {},
   "source": [
    "3. Data Analysis (15 Marks)\n",
    "- Use the DataFrame from Task 1:\n",
    "  -  Calculate the average age of students. (2 Marks)\n",
    "  -  Find the maximum and minimum scores. (2 Marks)\n",
    "  -  Count the number of students who passed. (3 Marks)\n",
    "  -  Group the data by the Passed column and calculate the average score for each group. (4 Marks)\n",
    "  -  Sort the DataFrame by Score in descending order. (4 Marks)"
   ]
  },
  {
   "cell_type": "code",
   "execution_count": 113,
   "metadata": {},
   "outputs": [
    {
     "name": "stdout",
     "output_type": "stream",
     "text": [
      "Average age of students: 23.5\n",
      "Maximum score: 92\n",
      "Minimum score: 78\n",
      "Number of students passed: 3\n",
      "Average pass score: Passed\n",
      "False    78.0\n",
      "True     89.0\n",
      "Name: Score, dtype: float64\n",
      "Sorted dataframe:\n",
      "      Name  Age  Gender  Score  Passed\n",
      "3    Diana   24  Female     92    True\n",
      "2  Charlie   22    Male     90    True\n",
      "0    Alice   23  Female     85    True\n",
      "1      Bob   25    Male     78   False\n"
     ]
    }
   ],
   "source": [
    "import pandas as pd\n",
    "\n",
    "given=pd.DataFrame({'Name':['Alice','Bob','Charlie','Diana'],'Age':[23,25,22,24],'Gender':['Female','Male','Male','Female'],'Score':[85,78,90,92]})\n",
    "print('Average age of students:',given['Age'].mean())\n",
    "print('Maximum score:',given['Score'].max())\n",
    "print('Minimum score:',given['Score'].min())\n",
    "print('Number of students passed:',(given['Score']>80).sum())\n",
    "given ['Passed']=given['Score']>80\n",
    "average_pass_score= given.groupby('Passed')['Score'].mean()\n",
    "print ('Average pass score:',average_pass_score)\n",
    "print('Sorted dataframe:')\n",
    "print(given.sort_values(by='Score',ascending=False))"
   ]
  },
  {
   "cell_type": "markdown",
   "metadata": {},
   "source": [
    "4. Importing and Exporting Data (5 Marks)\n",
    "- Save the DataFrame from Task 1 as a CSV file named students.csv. (2 Marks)\n",
    "- Read the students.csv file back into a new DataFrame and display it. (3 Marks)"
   ]
  },
  {
   "cell_type": "code",
   "execution_count": 126,
   "metadata": {},
   "outputs": [
    {
     "name": "stdout",
     "output_type": "stream",
     "text": [
      "Saved to CSV: None\n",
      "Read the CSV file:\n",
      "      Name  Age  Gender  Score\n",
      "0    Alice   23  Female     85\n",
      "1      Bob   25    Male     78\n",
      "2  Charlie   22    Male     90\n",
      "3    Diana   24  Female     92\n"
     ]
    }
   ],
   "source": [
    "import pandas as pd\n",
    "\n",
    "given=pd.DataFrame({'Name':['Alice','Bob','Charlie','Diana'],'Age':[23,25,22,24],'Gender':['Female','Male','Male','Female'],'Score':[85,78,90,92]})\n",
    "print('Saved to CSV:',given.to_csv('students.csv'))\n",
    "print('Read the CSV file:')\n",
    "print(pd.read_csv('students.csv',index_col=0))"
   ]
  },
  {
   "cell_type": "markdown",
   "metadata": {},
   "source": [
    "5. Real-World Problem (10 Marks)\n",
    "- Create a DataFrame with the following sales data:\n",
    "  -  Product\n",
    "Category\n",
    "Sales\n",
    "Discount\n",
    "  -  Laptop\n",
    "Electronics\n",
    "500\n",
    "50\n",
    "  - Smartphone\n",
    "Electronics\n",
    "300\n",
    "30\n",
    "  - Desk\n",
    "Furniture\n",
    "200\n",
    "20\n",
    "  - Chair\n",
    "Furniture\n",
    "150\n",
    "15\n",
    "\n",
    "Tasks:\n",
    "  -  Calculate a new column named Net Sales as Sales - Discount. (3 Marks)\n",
    "  -  Group the data by Category and calculate total sales for each category. (4 Marks)\n",
    "  -  Find the product with the highest net sales. (3 Marks)\n"
   ]
  },
  {
   "cell_type": "code",
   "execution_count": 149,
   "metadata": {},
   "outputs": [
    {
     "name": "stdout",
     "output_type": "stream",
     "text": [
      "Given Dataframe:\n",
      "      Product     Catagory  Sales  Discount\n",
      "0      Laptop  Electronics    500        50\n",
      "1  Smartphone  Electronics    300        30\n",
      "2        Desk    Furniture    200        20\n",
      "3       Chair    Furniture    150        15\n",
      "Updated Dataframe:\n",
      "      Product     Catagory  Sales  Discount  Net Sales\n",
      "0      Laptop  Electronics    500        50        450\n",
      "1  Smartphone  Electronics    300        30        270\n",
      "2        Desk    Furniture    200        20        180\n",
      "3       Chair    Furniture    150        15        135\n",
      "Grouped by catagory:\n",
      "Catagory\n",
      "Electronics    800\n",
      "Furniture      350\n",
      "Name: Sales, dtype: int64\n",
      "Product with highest net sales: Laptop\n"
     ]
    }
   ],
   "source": [
    "import pandas as pd\n",
    "\n",
    "df=pd.DataFrame({'Product':['Laptop','Smartphone','Desk','Chair'],\n",
    "                 'Catagory':['Electronics','Electronics','Furniture','Furniture'],\n",
    "                 'Sales':[500,300,200,150],\n",
    "                 'Discount':[50,30,20,15]\n",
    "                 })\n",
    "print('Given Dataframe:')\n",
    "print(df)\n",
    "df['Net Sales']=df['Sales']-df['Discount']\n",
    "print('Updated Dataframe:')\n",
    "print(df)\n",
    "by_catagory=df.groupby('Catagory')['Sales'].sum()\n",
    "print('Grouped by catagory:')\n",
    "print(by_catagory)\n",
    "max_price=df.sort_values(by='Net Sales',ascending=False).loc[0]['Product']\n",
    "print('Product with highest net sales:',max_price)"
   ]
  }
 ],
 "metadata": {
  "kernelspec": {
   "display_name": "Python 3",
   "language": "python",
   "name": "python3"
  },
  "language_info": {
   "codemirror_mode": {
    "name": "ipython",
    "version": 3
   },
   "file_extension": ".py",
   "mimetype": "text/x-python",
   "name": "python",
   "nbconvert_exporter": "python",
   "pygments_lexer": "ipython3",
   "version": "3.13.1"
  }
 },
 "nbformat": 4,
 "nbformat_minor": 2
}
