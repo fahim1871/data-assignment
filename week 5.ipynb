{
 "cells": [
  {
   "cell_type": "markdown",
   "metadata": {},
   "source": [
    "Week-5 Assignment: Grouping, Merging, and Time-Series with Pandas"
   ]
  },
  {
   "cell_type": "markdown",
   "metadata": {},
   "source": [
    "1. Grouping and Aggregation (20 Marks)\n",
    " -  You are provided with the following dataset about employees and their sales performance:\n",
    "“”””import pandas as pd\n",
    "\n",
    "data = {\n",
    "    'Employee': ['Alice', 'Bob', 'Alice', 'Bob', 'Charlie', 'Alice', 'Charlie', 'Bob'],\n",
    "    'Region': ['North', 'South', 'North', 'South', 'North', 'South', 'North', 'North'],\n",
    "    'Sales': [200, 150, 300, 400, 100, 250, 300, 350],\n",
    "    'Year': [2023, 2023, 2024, 2024, 2023, 2024, 2024, 2023]\n",
    "}\n",
    "\n",
    "df = pd.DataFrame(data) “”””\n",
    "\n",
    "Perform the following tasks:\n",
    " - Group the data by Employee and calculate the total sales for each employee. (5 Marks)\n",
    " - Group the data by Region and find the average sales per region. (5 Marks)\n",
    " - Group the data by both Employee and Year to calculate the total sales for each combination. (10 Marks)\n"
   ]
  },
  {
   "cell_type": "code",
   "execution_count": 33,
   "metadata": {},
   "outputs": [
    {
     "name": "stdout",
     "output_type": "stream",
     "text": [
      "DF grouped by employee:\n",
      "  Employee  Total Sales\n",
      "0    Alice          750\n",
      "1      Bob          900\n",
      "2  Charlie          400\n",
      "DF grouped by region:\n",
      "  Region  Average Sales\n",
      "0  North         250.00\n",
      "1  South         266.67\n",
      "DF grouped by employee and year:\n",
      "  Employee  Year  Total Sales\n",
      "0    Alice  2023          200\n",
      "1    Alice  2024          550\n",
      "2      Bob  2023          500\n",
      "3      Bob  2024          400\n",
      "4  Charlie  2023          100\n",
      "5  Charlie  2024          300\n"
     ]
    }
   ],
   "source": [
    "import pandas as pd\n",
    "data = {\n",
    "    'Employee': ['Alice', 'Bob', 'Alice', 'Bob', 'Charlie', 'Alice', 'Charlie', 'Bob'],\n",
    "    'Region': ['North', 'South', 'North', 'South', 'North', 'South', 'North', 'North'],\n",
    "    'Sales': [200, 150, 300, 400, 100, 250, 300, 350],\n",
    "    'Year': [2023, 2023, 2024, 2024, 2023, 2024, 2024, 2023]\n",
    "}\n",
    "\n",
    "df = pd.DataFrame(data)\n",
    "new_1= df.groupby('Employee')['Sales'].sum().reset_index()\n",
    "new_1.columns=['Employee','Total Sales']\n",
    "print('DF grouped by employee:')\n",
    "print(new_1)\n",
    "new_2= df.groupby('Region')['Sales'].mean().reset_index().round(2)\n",
    "new_2.columns=['Region','Average Sales']\n",
    "print('DF grouped by region:')\n",
    "print(new_2)\n",
    "new_3= df.groupby(['Employee','Year'])['Sales'].sum().reset_index()\n",
    "new_3.columns=['Employee','Year','Total Sales']\n",
    "print('DF grouped by employee and year:')\n",
    "print(new_3)\n",
    "\n"
   ]
  },
  {
   "cell_type": "markdown",
   "metadata": {},
   "source": [
    "2. Merging and Concatenation (20 Marks)\n",
    " - You are provided with two datasets containing employee details and sales targets:\n",
    "employee_details = pd.DataFrame({\n",
    "    'Employee': ['Alice', 'Bob', 'Charlie', 'David'],\n",
    "    'Age': [25, 30, 35, 40],\n",
    "    'Department': ['Sales', 'Sales', 'Marketing', 'HR']\n",
    "})\n",
    "\n",
    "sales_targets = pd.DataFrame({\n",
    "    'Employee': ['Alice', 'Bob', 'Charlie', 'David'],\n",
    "    'Sales_Target': [1000, 1200, 800, 500]\n",
    "})\n",
    "\n",
    " - Perform the following tasks:\n",
    "   -  Merge the two datasets on the Employee column to combine all details. (10 Marks)\n",
    "   -  Create a new column showing the difference between Sales_Target and total sales (calculated from Task 1). Hint: Use the merged dataset for calculations. (10 Marks)\n"
   ]
  },
  {
   "cell_type": "code",
   "execution_count": 48,
   "metadata": {},
   "outputs": [
    {
     "name": "stdout",
     "output_type": "stream",
     "text": [
      "Merged data:\n",
      "  Employee  Age Department  Sales_Target\n",
      "0    Alice   25      Sales          1000\n",
      "1      Bob   30      Sales          1200\n",
      "2  Charlie   35  Marketing           800\n",
      "3    David   40         HR           500\n",
      "Data with difference:\n",
      "  Employee  Age Department  Sales_Target  Total Sales  Difference\n",
      "0    Alice   25      Sales          1000          750         250\n",
      "1      Bob   30      Sales          1200          900         300\n",
      "2  Charlie   35  Marketing           800          400         400\n"
     ]
    }
   ],
   "source": [
    "import pandas as pd\n",
    "employee_details = pd.DataFrame({\n",
    "    'Employee': ['Alice', 'Bob', 'Charlie', 'David'],\n",
    "    'Age': [25, 30, 35, 40],\n",
    "    'Department': ['Sales', 'Sales', 'Marketing', 'HR']\n",
    "})\n",
    "sales_targets = pd.DataFrame({\n",
    "    'Employee': ['Alice', 'Bob', 'Charlie', 'David'],\n",
    "    'Sales_Target': [1000, 1200, 800, 500]\n",
    "})\n",
    "new_4=pd.merge(employee_details,sales_targets,on='Employee')\n",
    "print('Merged data:')\n",
    "print(new_4)\n",
    "new_5=pd.merge(new_4,new_1 ,on='Employee')\n",
    "new_5['Difference']= new_5['Sales_Target']- new_5['Total Sales']\n",
    "print('Data with difference:')\n",
    "print(new_5)"
   ]
  },
  {
   "cell_type": "markdown",
   "metadata": {},
   "source": [
    "3. Working with Time-Series Data (20 Marks)\n",
    " - The following dataset contains daily stock prices:\n",
    " - stock_prices = pd.DataFrame({\n",
    "    'Date': ['2024-01-01', '2024-01-02', '2024-01-03', '2024-01-04', '2024-01-05'],\n",
    "    'Price': [100, 102, 105, 107, 110]\n",
    "})\n",
    "\n",
    " - Perform the following tasks:\n",
    "   -  Convert the Date column to a datetime object. (5 Marks)\n",
    "   -  Resample the data to calculate the weekly average price. (10 Marks)\n",
    "   -  Find the day with the highest stock price. (5 Marks)\n"
   ]
  },
  {
   "cell_type": "code",
   "execution_count": 60,
   "metadata": {},
   "outputs": [
    {
     "name": "stdout",
     "output_type": "stream",
     "text": [
      "Converted to date time object:\n",
      "        Date  Price\n",
      "0 2024-01-01    100\n",
      "1 2024-01-02    102\n",
      "2 2024-01-03    105\n",
      "3 2024-01-04    107\n",
      "4 2024-01-05    110\n",
      "Weekly average price:\n",
      "            Price\n",
      "Date             \n",
      "2024-01-07  104.8\n",
      "Day with highest price:\n",
      "Price    110\n",
      "Name: 2024-01-05 00:00:00, dtype: int64\n"
     ]
    }
   ],
   "source": [
    "import pandas as pd\n",
    "stock_prices = pd.DataFrame({\n",
    "    'Date': ['2024-01-01', '2024-01-02', '2024-01-03', '2024-01-04', '2024-01-05'],\n",
    "    'Price': [100, 102, 105, 107, 110]\n",
    "})\n",
    "stock_prices['Date'] = pd.to_datetime(stock_prices['Date'])\n",
    "print('Converted to date time object:')\n",
    "print(stock_prices)\n",
    "stock_prices.set_index('Date',inplace=True)\n",
    "w_avg=stock_prices.resample('W').mean()\n",
    "print('Weekly average price:')\n",
    "print(w_avg)\n",
    "m=stock_prices['Price'].idxmax()\n",
    "max_price=stock_prices.loc[m]\n",
    "print('Day with highest price:')\n",
    "print(max_price)\n"
   ]
  },
  {
   "cell_type": "markdown",
   "metadata": {},
   "source": [
    "4. Pivot Tables and Cross-Tabulations (20 Marks)\n",
    " - Using the original df dataset from Task 1:\n",
    "   -  Create a pivot table to find the total sales by Region and Year. (10 Marks)\n",
    "   -  Create a cross-tabulation showing the count of employees working in each Region for each Year. (10 Marks)\n"
   ]
  },
  {
   "cell_type": "code",
   "execution_count": 65,
   "metadata": {},
   "outputs": [
    {
     "name": "stdout",
     "output_type": "stream",
     "text": [
      "Total values by region and year:\n",
      "Year    2023  2024\n",
      "Region            \n",
      "North    650   600\n",
      "South    150   650\n",
      "Cross-tabulation:\n",
      "Year    2023  2024\n",
      "Region            \n",
      "North      3     2\n",
      "South      1     2\n"
     ]
    }
   ],
   "source": [
    "pivot=df.pivot_table(values='Sales',index='Region',columns='Year',aggfunc='sum',)\n",
    "print('Total values by region and year:')\n",
    "print(pivot)\n",
    "new_6= pd.crosstab(index=df['Region'], columns=df['Year'], values=df['Employee'], aggfunc='count')\n",
    "print('Cross-tabulation:')\n",
    "print(new_6)"
   ]
  },
  {
   "cell_type": "markdown",
   "metadata": {},
   "source": [
    "5. Exporting Data (10 Marks)\n",
    " - Save the final merged dataset (from Task 2) to a CSV file named employee_sales.csv. (5 Marks)\n",
    " - Save the pivot table (from Task 4) to an Excel file named sales_summary.xlsx. (5 Marks)\n"
   ]
  },
  {
   "cell_type": "code",
   "execution_count": 82,
   "metadata": {},
   "outputs": [],
   "source": [
    "new_5.to_csv('employee_sales.csv')\n",
    "pivot.to_excel('sales_summary.xlsx')"
   ]
  }
 ],
 "metadata": {
  "kernelspec": {
   "display_name": "Python 3",
   "language": "python",
   "name": "python3"
  },
  "language_info": {
   "codemirror_mode": {
    "name": "ipython",
    "version": 3
   },
   "file_extension": ".py",
   "mimetype": "text/x-python",
   "name": "python",
   "nbconvert_exporter": "python",
   "pygments_lexer": "ipython3",
   "version": "3.13.1"
  }
 },
 "nbformat": 4,
 "nbformat_minor": 2
}
